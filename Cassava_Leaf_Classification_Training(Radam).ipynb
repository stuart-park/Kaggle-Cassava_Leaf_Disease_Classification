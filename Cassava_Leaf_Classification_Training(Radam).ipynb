{
 "cells": [
  {
   "cell_type": "code",
   "execution_count": 1,
   "metadata": {
    "execution": {
     "iopub.execute_input": "2021-02-16T05:54:20.706352Z",
     "iopub.status.busy": "2021-02-16T05:54:20.705402Z",
     "iopub.status.idle": "2021-02-16T05:54:29.428551Z",
     "shell.execute_reply": "2021-02-16T05:54:29.429872Z"
    },
    "papermill": {
     "duration": 8.741641,
     "end_time": "2021-02-16T05:54:29.430349",
     "exception": false,
     "start_time": "2021-02-16T05:54:20.688708",
     "status": "completed"
    },
    "tags": []
   },
   "outputs": [],
   "source": [
    "import pathlib\n",
    "import numpy as np\n",
    "import os\n",
    "import pandas as pd\n",
    "import tensorflow as tf\n",
    "import tensorflow_addons as tfa\n",
    "import random\n",
    "\n",
    "from sklearn.model_selection import StratifiedKFold\n",
    "from tensorflow import keras\n",
    "from tensorflow.keras import layers, Sequential\n",
    "from tensorflow.keras.applications import EfficientNetB3\n",
    "from functools import partial\n",
    "from albumentations import (Compose, Transpose, HorizontalFlip,\n",
    "                            VerticalFlip, RandomResizedCrop, RandomRotate90, RandomBrightnessContrast,HueSaturationValue )"
   ]
  },
  {
   "cell_type": "code",
   "execution_count": 2,
   "metadata": {
    "execution": {
     "iopub.execute_input": "2021-02-16T05:54:29.459723Z",
     "iopub.status.busy": "2021-02-16T05:54:29.458799Z",
     "iopub.status.idle": "2021-02-16T05:54:29.462873Z",
     "shell.execute_reply": "2021-02-16T05:54:29.463579Z"
    },
    "papermill": {
     "duration": 0.022114,
     "end_time": "2021-02-16T05:54:29.463801",
     "exception": false,
     "start_time": "2021-02-16T05:54:29.441687",
     "status": "completed"
    },
    "tags": []
   },
   "outputs": [],
   "source": [
    "hyper_params={\n",
    "    \"img_size\": 512,\n",
    "    \"batch_size\": 8,\n",
    "    \"val_ratio\": 0.2,\n",
    "    \"buffer_size\": 1000,\n",
    "    \"num_classes\": 5,\n",
    "    \"fold\": 5,\n",
    "    \"seed\": 2021,\n",
    "\n",
    "    \"epochs\": 10,\n",
    "    \"init_lr\": float(1e-3)\n",
    "}"
   ]
  },
  {
   "cell_type": "code",
   "execution_count": 3,
   "metadata": {
    "execution": {
     "iopub.execute_input": "2021-02-16T05:54:29.493565Z",
     "iopub.status.busy": "2021-02-16T05:54:29.490622Z",
     "iopub.status.idle": "2021-02-16T05:54:29.494599Z",
     "shell.execute_reply": "2021-02-16T05:54:29.495346Z"
    },
    "papermill": {
     "duration": 0.021776,
     "end_time": "2021-02-16T05:54:29.495554",
     "exception": false,
     "start_time": "2021-02-16T05:54:29.473778",
     "status": "completed"
    },
    "tags": []
   },
   "outputs": [],
   "source": [
    "def seed_everything(seed):\n",
    "    random.seed(seed)\n",
    "    np.random.seed(seed)\n",
    "    os.environ['PYTHONHASHSEED'] = str(seed)\n",
    "    tf.compat.v1.set_random_seed(seed)\n",
    "    \n",
    "seed_everything(hyper_params[\"seed\"])"
   ]
  },
  {
   "cell_type": "code",
   "execution_count": 4,
   "metadata": {
    "execution": {
     "iopub.execute_input": "2021-02-16T05:54:29.526914Z",
     "iopub.status.busy": "2021-02-16T05:54:29.525991Z",
     "iopub.status.idle": "2021-02-16T05:54:29.532672Z",
     "shell.execute_reply": "2021-02-16T05:54:29.533816Z"
    },
    "papermill": {
     "duration": 0.028345,
     "end_time": "2021-02-16T05:54:29.534042",
     "exception": false,
     "start_time": "2021-02-16T05:54:29.505697",
     "status": "completed"
    },
    "tags": []
   },
   "outputs": [],
   "source": [
    "class generate_data():\n",
    "    def __init__(self,\n",
    "                 image,\n",
    "                 label,\n",
    "                 img_size=224):\n",
    "        self.image = image\n",
    "        self.label = label\n",
    "        self.img_size = img_size\n",
    "        self.img_num = len(image)\n",
    "        self.AUTOTUNE = tf.data.experimental.AUTOTUNE\n",
    "\n",
    "    def _create_dataset(self):\n",
    "        list_ds = tf.data.Dataset.from_tensor_slices(\n",
    "            (self.image, self.label))\n",
    "\n",
    "        list_ds = list_ds.shuffle(\n",
    "            self.img_num, reshuffle_each_iteration=False)\n",
    "        \n",
    "        return list_ds\n",
    "\n",
    "    def _resize_img(self, file_path, label):\n",
    "        img = tf.io.read_file(file_path)\n",
    "        img = tf.image.decode_jpeg(img, channels=3)\n",
    "        img = tf.image.resize(img, [self.img_size, self.img_size])\n",
    "\n",
    "        return img, label\n",
    "    \n",
    "    def get_data(self):\n",
    "        ds = self._create_dataset()\n",
    "        ds = ds.map(self._resize_img, num_parallel_calls=self.AUTOTUNE)\n",
    "\n",
    "        return ds"
   ]
  },
  {
   "cell_type": "code",
   "execution_count": 5,
   "metadata": {
    "execution": {
     "iopub.execute_input": "2021-02-16T05:54:29.566907Z",
     "iopub.status.busy": "2021-02-16T05:54:29.565975Z",
     "iopub.status.idle": "2021-02-16T05:54:29.575196Z",
     "shell.execute_reply": "2021-02-16T05:54:29.576344Z"
    },
    "papermill": {
     "duration": 0.031574,
     "end_time": "2021-02-16T05:54:29.576561",
     "exception": false,
     "start_time": "2021-02-16T05:54:29.544987",
     "status": "completed"
    },
    "tags": []
   },
   "outputs": [],
   "source": [
    "augmentate = Compose([\n",
    "    RandomResizedCrop(hyper_params[\"img_size\"], hyper_params[\"img_size\"]),\n",
    "    Transpose(p=0.6),\n",
    "    HorizontalFlip(p=0.6),\n",
    "    VerticalFlip(p=0.6),\n",
    "    RandomRotate90(p=0.6),\n",
    "    RandomBrightnessContrast(brightness_limit=(-0.1, 0.1),\n",
    "                             contrast_limit=(-0.1, 0.1), p=0.6),\n",
    "    HueSaturationValue(hue_shift_limit=0.2,\n",
    "                       sat_shift_limit=0.2, val_shift_limit=0.2, p=0.6)\n",
    "])\n",
    "\n",
    "\n",
    "class augmentate_data():\n",
    "    def __init__(self, ds, img_size):\n",
    "        self.ds = ds\n",
    "        self.input_shape=(img_size, img_size, 3)\n",
    "\n",
    "    def _aug_fn(self, image):\n",
    "        aug_data = augmentate(image=image)\n",
    "        aug_img = aug_data[\"image\"]\n",
    "\n",
    "        return aug_img\n",
    "\n",
    "    def _process_img(self, image, label):\n",
    "        aug_img = tf.numpy_function(\n",
    "            func=self._aug_fn, inp=[image], Tout=tf.float32)\n",
    "\n",
    "        return aug_img, label\n",
    "\n",
    "    def _set_shapes(self, img, label):\n",
    "        img.set_shape((self.input_shape))\n",
    "        label.set_shape([])\n",
    "\n",
    "        return img, label\n",
    "\n",
    "    def data_aug(self):\n",
    "        ds = self.ds.map(self._process_img,\n",
    "                         num_parallel_calls=tf.data.experimental.AUTOTUNE)\n",
    "\n",
    "        ds = self.ds.map(self._set_shapes,\n",
    "                         num_parallel_calls=tf.data.experimental.AUTOTUNE)\n",
    "        return ds"
   ]
  },
  {
   "cell_type": "code",
   "execution_count": 6,
   "metadata": {
    "execution": {
     "iopub.execute_input": "2021-02-16T05:54:29.607940Z",
     "iopub.status.busy": "2021-02-16T05:54:29.607032Z",
     "iopub.status.idle": "2021-02-16T05:54:29.611017Z",
     "shell.execute_reply": "2021-02-16T05:54:29.611708Z"
    },
    "papermill": {
     "duration": 0.02366,
     "end_time": "2021-02-16T05:54:29.611930",
     "exception": false,
     "start_time": "2021-02-16T05:54:29.588270",
     "status": "completed"
    },
    "tags": []
   },
   "outputs": [],
   "source": [
    "def efficientnetB3(num_classes):\n",
    "    model = Sequential()\n",
    "    pretrained_b3 = EfficientNetB3(include_top=False, weights=\"imagenet\",\n",
    "                                   input_shape=(hyper_params[\"img_size\"], hyper_params[\"img_size\"], 3), drop_connect_rate=0.4)\n",
    "    model.add(pretrained_b3)\n",
    "    model.add(layers.GlobalAveragePooling2D())\n",
    "    model.add(layers.Dropout(0.4))\n",
    "    model.add(layers.Dense(num_classes, activation='softmax'))\n",
    "\n",
    "    return model\n"
   ]
  },
  {
   "cell_type": "code",
   "execution_count": 7,
   "metadata": {
    "execution": {
     "iopub.execute_input": "2021-02-16T05:54:29.645865Z",
     "iopub.status.busy": "2021-02-16T05:54:29.644911Z",
     "iopub.status.idle": "2021-02-16T10:14:09.189918Z",
     "shell.execute_reply": "2021-02-16T10:14:09.189064Z"
    },
    "papermill": {
     "duration": 15579.567355,
     "end_time": "2021-02-16T10:14:09.190106",
     "exception": false,
     "start_time": "2021-02-16T05:54:29.622751",
     "status": "completed"
    },
    "tags": []
   },
   "outputs": [
    {
     "name": "stdout",
     "output_type": "stream",
     "text": [
      "Downloading data from https://storage.googleapis.com/keras-applications/efficientnetb3_notop.h5\n",
      "43941888/43941136 [==============================] - 0s 0us/step\n",
      "Model: \"sequential\"\n",
      "_________________________________________________________________\n",
      "Layer (type)                 Output Shape              Param #   \n",
      "=================================================================\n",
      "efficientnetb3 (Functional)  (None, 16, 16, 1536)      10783535  \n",
      "_________________________________________________________________\n",
      "global_average_pooling2d (Gl (None, 1536)              0         \n",
      "_________________________________________________________________\n",
      "dropout (Dropout)            (None, 1536)              0         \n",
      "_________________________________________________________________\n",
      "dense (Dense)                (None, 5)                 7685      \n",
      "=================================================================\n",
      "Total params: 10,791,220\n",
      "Trainable params: 10,703,917\n",
      "Non-trainable params: 87,303\n",
      "_________________________________________________________________\n",
      "Epoch 1/10\n",
      "2140/2140 [==============================] - 1664s 717ms/step - loss: 0.7314 - accuracy: 0.7390 - val_loss: 0.3388 - val_accuracy: 0.8902\n",
      "Epoch 2/10\n",
      "2140/2140 [==============================] - 1522s 708ms/step - loss: 0.3646 - accuracy: 0.8775 - val_loss: 0.3134 - val_accuracy: 0.8962\n",
      "Epoch 3/10\n",
      "2140/2140 [==============================] - 1540s 716ms/step - loss: 0.3519 - accuracy: 0.8800 - val_loss: 0.3121 - val_accuracy: 0.8965\n",
      "Epoch 4/10\n",
      "2140/2140 [==============================] - 1545s 719ms/step - loss: 0.3597 - accuracy: 0.8767 - val_loss: 0.3117 - val_accuracy: 0.8955\n",
      "Epoch 5/10\n",
      "2140/2140 [==============================] - 1551s 721ms/step - loss: 0.3517 - accuracy: 0.8800 - val_loss: 0.3118 - val_accuracy: 0.8969\n",
      "Epoch 6/10\n",
      "2140/2140 [==============================] - 1554s 722ms/step - loss: 0.3388 - accuracy: 0.8851 - val_loss: 0.3106 - val_accuracy: 0.8974\n",
      "Epoch 7/10\n",
      "2140/2140 [==============================] - 1548s 719ms/step - loss: 0.3451 - accuracy: 0.8817 - val_loss: 0.3107 - val_accuracy: 0.8965\n",
      "Epoch 8/10\n",
      "2140/2140 [==============================] - 1554s 722ms/step - loss: 0.3469 - accuracy: 0.8811 - val_loss: 0.3112 - val_accuracy: 0.8965\n",
      "Epoch 9/10\n",
      "2140/2140 [==============================] - 1541s 715ms/step - loss: 0.3441 - accuracy: 0.8836 - val_loss: 0.3114 - val_accuracy: 0.8967\n",
      "Epoch 10/10\n",
      "2140/2140 [==============================] - 1543s 716ms/step - loss: 0.3483 - accuracy: 0.8795 - val_loss: 0.3111 - val_accuracy: 0.8953\n"
     ]
    },
    {
     "data": {
      "text/plain": [
       "<tensorflow.python.keras.callbacks.History at 0x7fec78a36950>"
      ]
     },
     "execution_count": 7,
     "metadata": {},
     "output_type": "execute_result"
    }
   ],
   "source": [
    "AUTOTUNE = tf.data.experimental.AUTOTUNE\n",
    "\n",
    "train_df = pd.read_csv(\"../input/split-train-data-to-5-fold/train_df_fold_3.csv\")\n",
    "val_df = pd.read_csv(\"../input/split-train-data-to-5-fold/val_df_fold_3.csv\")\n",
    "\n",
    "train_ds = generate_data(train_df[\"file_path\"], \n",
    "                         train_df[\"label\"], hyper_params[\"img_size\"]).get_data()\n",
    "val_ds = generate_data(val_df[\"file_path\"], \n",
    "                       val_df[\"label\"], hyper_params[\"img_size\"]).get_data()\n",
    "\n",
    "train_ds = augmentate_data(train_ds, hyper_params[\"img_size\"]).data_aug()\n",
    "\n",
    "train_ds = train_ds.shuffle(buffer_size=hyper_params[\"buffer_size\"]).batch(\n",
    "    hyper_params[\"batch_size\"]).prefetch(buffer_size=AUTOTUNE)\n",
    "val_ds = val_ds.shuffle(buffer_size=hyper_params[\"buffer_size\"]).batch(\n",
    "    hyper_params[\"batch_size\"]).prefetch(buffer_size=AUTOTUNE)\n",
    "    \n",
    "# Build model\n",
    "model = efficientnetB3(hyper_params[\"num_classes\"])\n",
    "model.summary()\n",
    "\n",
    "early_stop = tf.keras.callbacks.EarlyStopping(monitor=\"val_loss\", min_delta=1e-4, patience=5, restore_best_weights=True)\n",
    "\n",
    "decay_step = int((len(train_ds)/hyper_params[\"batch_size\"])*hyper_params[\"epochs\"])\n",
    "\n",
    "CosDecay = tf.keras.experimental.CosineDecay(hyper_params[\"init_lr\"], decay_steps=decay_step, alpha=1e-3)\n",
    "    \n",
    "# Adam = keras.optimizers.Adam(learning_rate=CosDecay)\n",
    "Radam = tfa.optimizers.RectifiedAdam(learning_rate=CosDecay)\n",
    "\n",
    "Lookahead = tfa.optimizers.Lookahead(Radam)\n",
    "# SWA = tfa.optimizers.SWA(Adam)\n",
    "    \n",
    "model.compile(optimizer=Lookahead,\n",
    "              loss=tf.keras.losses.SparseCategoricalCrossentropy(\n",
    "                  from_logits=False),\n",
    "              metrics=[\"accuracy\"])\n",
    "    \n",
    "model.fit(train_ds, validation_data=val_ds, epochs=hyper_params[\"epochs\"], callbacks=[early_stop])"
   ]
  },
  {
   "cell_type": "code",
   "execution_count": 8,
   "metadata": {
    "execution": {
     "iopub.execute_input": "2021-02-16T10:14:26.147790Z",
     "iopub.status.busy": "2021-02-16T10:14:26.132514Z",
     "iopub.status.idle": "2021-02-16T10:14:27.559508Z",
     "shell.execute_reply": "2021-02-16T10:14:27.558769Z"
    },
    "papermill": {
     "duration": 9.899559,
     "end_time": "2021-02-16T10:14:27.559684",
     "exception": false,
     "start_time": "2021-02-16T10:14:17.660125",
     "status": "completed"
    },
    "tags": []
   },
   "outputs": [],
   "source": [
    "model.save(\"./Lookahead_Radam_CosDecay_Fold_3.h5\")"
   ]
  }
 ],
 "metadata": {
  "kernelspec": {
   "display_name": "Python 3",
   "language": "python",
   "name": "python3"
  },
  "language_info": {
   "codemirror_mode": {
    "name": "ipython",
    "version": 3
   },
   "file_extension": ".py",
   "mimetype": "text/x-python",
   "name": "python",
   "nbconvert_exporter": "python",
   "pygments_lexer": "ipython3",
   "version": "3.7.9"
  },
  "papermill": {
   "default_parameters": {},
   "duration": 15628.366977,
   "end_time": "2021-02-16T10:14:42.732681",
   "environment_variables": {},
   "exception": null,
   "input_path": "__notebook__.ipynb",
   "output_path": "__notebook__.ipynb",
   "parameters": {},
   "start_time": "2021-02-16T05:54:14.365704",
   "version": "2.2.2"
  }
 },
 "nbformat": 4,
 "nbformat_minor": 4
}
