{
 "cells": [
  {
   "cell_type": "code",
   "execution_count": 1,
   "metadata": {
    "execution": {
     "iopub.execute_input": "2021-02-14T07:50:28.353732Z",
     "iopub.status.busy": "2021-02-14T07:50:28.352943Z",
     "iopub.status.idle": "2021-02-14T07:50:36.143322Z",
     "shell.execute_reply": "2021-02-14T07:50:36.142200Z"
    },
    "papermill": {
     "duration": 7.806475,
     "end_time": "2021-02-14T07:50:36.143446",
     "exception": false,
     "start_time": "2021-02-14T07:50:28.336971",
     "status": "completed"
    },
    "tags": []
   },
   "outputs": [],
   "source": [
    "import pathlib\n",
    "import numpy as np\n",
    "import os\n",
    "import pandas as pd\n",
    "import tensorflow as tf\n",
    "import tensorflow_addons as tfa\n",
    "import random\n",
    "\n",
    "from tensorflow import keras\n",
    "from tensorflow.keras import layers, Sequential\n",
    "from tensorflow.keras.applications import EfficientNetB3\n",
    "from functools import partial\n",
    "from albumentations import (Compose, Transpose, HorizontalFlip,\n",
    "                            VerticalFlip, RandomResizedCrop, RandomRotate90, RandomBrightnessContrast,HueSaturationValue)"
   ]
  },
  {
   "cell_type": "code",
   "execution_count": 2,
   "metadata": {
    "execution": {
     "iopub.execute_input": "2021-02-14T07:50:36.163707Z",
     "iopub.status.busy": "2021-02-14T07:50:36.162852Z",
     "iopub.status.idle": "2021-02-14T07:50:36.165888Z",
     "shell.execute_reply": "2021-02-14T07:50:36.165391Z"
    },
    "papermill": {
     "duration": 0.014899,
     "end_time": "2021-02-14T07:50:36.165987",
     "exception": false,
     "start_time": "2021-02-14T07:50:36.151088",
     "status": "completed"
    },
    "tags": []
   },
   "outputs": [],
   "source": [
    "hyper_params={\n",
    "    \"img_size\": 512,\n",
    "    \"batch_size\": 8,\n",
    "    \"val_ratio\": 0.2,\n",
    "    \"buffer_size\": 1000,\n",
    "    \"num_classes\": 5,\n",
    "    \"fold\": 5,\n",
    "    \"seed\": 2021,\n",
    "\n",
    "    \"epochs\": 10,\n",
    "    \"init_lr\": float(1e-3)\n",
    "}"
   ]
  },
  {
   "cell_type": "code",
   "execution_count": 3,
   "metadata": {
    "execution": {
     "iopub.execute_input": "2021-02-14T07:50:36.185481Z",
     "iopub.status.busy": "2021-02-14T07:50:36.184770Z",
     "iopub.status.idle": "2021-02-14T07:50:36.187994Z",
     "shell.execute_reply": "2021-02-14T07:50:36.187465Z"
    },
    "papermill": {
     "duration": 0.014954,
     "end_time": "2021-02-14T07:50:36.188088",
     "exception": false,
     "start_time": "2021-02-14T07:50:36.173134",
     "status": "completed"
    },
    "tags": []
   },
   "outputs": [],
   "source": [
    "def seed_everything(seed):\n",
    "    random.seed(seed)\n",
    "    np.random.seed(seed)\n",
    "    os.environ['PYTHONHASHSEED'] = str(seed)\n",
    "    tf.compat.v1.set_random_seed(seed)\n",
    "    \n",
    "seed_everything(hyper_params[\"seed\"])"
   ]
  },
  {
   "cell_type": "code",
   "execution_count": 4,
   "metadata": {
    "execution": {
     "iopub.execute_input": "2021-02-14T07:50:36.213000Z",
     "iopub.status.busy": "2021-02-14T07:50:36.212268Z",
     "iopub.status.idle": "2021-02-14T07:50:36.215256Z",
     "shell.execute_reply": "2021-02-14T07:50:36.214794Z"
    },
    "papermill": {
     "duration": 0.020741,
     "end_time": "2021-02-14T07:50:36.215348",
     "exception": false,
     "start_time": "2021-02-14T07:50:36.194607",
     "status": "completed"
    },
    "tags": []
   },
   "outputs": [],
   "source": [
    "class generate_data():\n",
    "    def __init__(self,\n",
    "                 image,\n",
    "                 label,\n",
    "                 img_size=224):\n",
    "        self.image = image\n",
    "        self.label = label\n",
    "        self.img_size = img_size\n",
    "        self.img_num = len(image)\n",
    "        self.AUTOTUNE = tf.data.experimental.AUTOTUNE\n",
    "\n",
    "    def _create_dataset(self):\n",
    "        list_ds = tf.data.Dataset.from_tensor_slices(\n",
    "            (self.image, self.label))\n",
    "\n",
    "        list_ds = list_ds.shuffle(\n",
    "            self.img_num, reshuffle_each_iteration=False)\n",
    "        \n",
    "        return list_ds\n",
    "\n",
    "    def _resize_img(self, file_path, label):\n",
    "        img = tf.io.read_file(file_path)\n",
    "        img = tf.image.decode_jpeg(img, channels=3)\n",
    "        img = tf.image.resize(img, [self.img_size, self.img_size])\n",
    "\n",
    "        return img, label\n",
    "    \n",
    "    def get_data(self):\n",
    "        ds = self._create_dataset()\n",
    "        ds = ds.map(self._resize_img, num_parallel_calls=self.AUTOTUNE)\n",
    "\n",
    "        return ds"
   ]
  },
  {
   "cell_type": "code",
   "execution_count": 5,
   "metadata": {
    "execution": {
     "iopub.execute_input": "2021-02-14T07:50:36.242325Z",
     "iopub.status.busy": "2021-02-14T07:50:36.241522Z",
     "iopub.status.idle": "2021-02-14T07:50:36.244599Z",
     "shell.execute_reply": "2021-02-14T07:50:36.245030Z"
    },
    "papermill": {
     "duration": 0.023029,
     "end_time": "2021-02-14T07:50:36.245146",
     "exception": false,
     "start_time": "2021-02-14T07:50:36.222117",
     "status": "completed"
    },
    "tags": []
   },
   "outputs": [],
   "source": [
    "augmentate = Compose([\n",
    "    RandomResizedCrop(hyper_params[\"img_size\"], hyper_params[\"img_size\"]),\n",
    "    Transpose(p=0.6),\n",
    "    HorizontalFlip(p=0.6),\n",
    "    VerticalFlip(p=0.6),\n",
    "    RandomRotate90(p=0.6),\n",
    "    RandomBrightnessContrast(brightness_limit=(-0.1, 0.1),\n",
    "                             contrast_limit=(-0.1, 0.1), p=0.6),\n",
    "    HueSaturationValue(hue_shift_limit=0.2,\n",
    "                       sat_shift_limit=0.2, val_shift_limit=0.2, p=0.6)\n",
    "])\n",
    "\n",
    "\n",
    "class augmentate_data():\n",
    "    def __init__(self, ds, img_size):\n",
    "        self.ds = ds\n",
    "        self.input_shape=(img_size, img_size, 3)\n",
    "\n",
    "    def _aug_fn(self, image):\n",
    "        data = {\"image\": image}\n",
    "        aug_data = augmentate(**data)\n",
    "        aug_img = aug_data[\"image\"]\n",
    "\n",
    "        return aug_img\n",
    "\n",
    "    def _process_img(self, image, label):\n",
    "        aug_img = tf.numpy_function(\n",
    "            func=self._aug_fn, inp=[image], Tout=tf.float32)\n",
    "\n",
    "        return aug_img, label\n",
    "\n",
    "    def _set_shapes(self, img, label):\n",
    "        img.set_shape((self.input_shape))\n",
    "        label.set_shape([])\n",
    "\n",
    "        return img, label\n",
    "\n",
    "    def data_aug(self):\n",
    "        ds = self.ds.map(self._process_img,\n",
    "                         num_parallel_calls=tf.data.experimental.AUTOTUNE)\n",
    "\n",
    "        ds = self.ds.map(self._set_shapes,\n",
    "                         num_parallel_calls=tf.data.experimental.AUTOTUNE)\n",
    "        return ds"
   ]
  },
  {
   "cell_type": "code",
   "execution_count": 6,
   "metadata": {
    "execution": {
     "iopub.execute_input": "2021-02-14T07:50:36.265774Z",
     "iopub.status.busy": "2021-02-14T07:50:36.265035Z",
     "iopub.status.idle": "2021-02-14T07:50:36.268046Z",
     "shell.execute_reply": "2021-02-14T07:50:36.267574Z"
    },
    "papermill": {
     "duration": 0.016096,
     "end_time": "2021-02-14T07:50:36.268136",
     "exception": false,
     "start_time": "2021-02-14T07:50:36.252040",
     "status": "completed"
    },
    "tags": []
   },
   "outputs": [],
   "source": [
    "def efficientnetB3(num_classes):\n",
    "    model = Sequential()\n",
    "    pretrained_b3 = EfficientNetB3(include_top=False, weights=\"imagenet\",\n",
    "                                   input_shape=(hyper_params[\"img_size\"], hyper_params[\"img_size\"], 3), drop_connect_rate=0.4)\n",
    "    model.add(pretrained_b3)\n",
    "    model.add(layers.GlobalAveragePooling2D())\n",
    "    model.add(layers.Dropout(0.4))\n",
    "    model.add(layers.Dense(num_classes, activation='softmax'))\n",
    "\n",
    "    return model"
   ]
  },
  {
   "cell_type": "code",
   "execution_count": 7,
   "metadata": {
    "execution": {
     "iopub.execute_input": "2021-02-14T07:50:36.288539Z",
     "iopub.status.busy": "2021-02-14T07:50:36.287692Z",
     "iopub.status.idle": "2021-02-14T07:50:36.291211Z",
     "shell.execute_reply": "2021-02-14T07:50:36.291750Z"
    },
    "papermill": {
     "duration": 0.016708,
     "end_time": "2021-02-14T07:50:36.291867",
     "exception": false,
     "start_time": "2021-02-14T07:50:36.275159",
     "status": "completed"
    },
    "tags": []
   },
   "outputs": [
    {
     "data": {
      "text/plain": [
       "'\\n@tf.function\\ndef train_step(X, y):\\n    with tf.GradientTape() as tape:\\n        logits = model(x, training=True)\\n        loss_value = loss_fn(y, logits)\\n    grads = tape.gradient(loss_value, model.trainable_weights)\\n    optimizer.apply_gradients(zip(grads, model.trainable_weights))\\n    train_acc_metric.update_state(y, logits)\\n    return loss_value\\n\\ndef train():\\n    loss_value = train_step(X, y)\\n    \\n    if step%100==0:\\n        print(\"Training loss (for one batch) at step %d: %.4f\" % (step, float(loss_value)))\\n    \\n    train_acc = train_acc_metric.result()\\n'"
      ]
     },
     "execution_count": 7,
     "metadata": {},
     "output_type": "execute_result"
    }
   ],
   "source": [
    "\"\"\"\n",
    "@tf.function\n",
    "def train_step(X, y):\n",
    "    with tf.GradientTape() as tape:\n",
    "        logits = model(x, training=True)\n",
    "        loss_value = loss_fn(y, logits)\n",
    "    grads = tape.gradient(loss_value, model.trainable_weights)\n",
    "    optimizer.apply_gradients(zip(grads, model.trainable_weights))\n",
    "    train_acc_metric.update_state(y, logits)\n",
    "    return loss_value\n",
    "\n",
    "def train():\n",
    "    loss_value = train_step(X, y)\n",
    "    \n",
    "    if step%100==0:\n",
    "        print(\"Training loss (for one batch) at step %d: %.4f\" % (step, float(loss_value)))\n",
    "    \n",
    "    train_acc = train_acc_metric.result()\n",
    "\"\"\""
   ]
  },
  {
   "cell_type": "code",
   "execution_count": 8,
   "metadata": {
    "execution": {
     "iopub.execute_input": "2021-02-14T07:50:36.330158Z",
     "iopub.status.busy": "2021-02-14T07:50:36.315014Z",
     "iopub.status.idle": "2021-02-14T11:34:45.653684Z",
     "shell.execute_reply": "2021-02-14T11:34:45.652086Z"
    },
    "papermill": {
     "duration": 13449.353876,
     "end_time": "2021-02-14T11:34:45.653815",
     "exception": false,
     "start_time": "2021-02-14T07:50:36.299939",
     "status": "completed"
    },
    "tags": []
   },
   "outputs": [
    {
     "name": "stdout",
     "output_type": "stream",
     "text": [
      "Downloading data from https://storage.googleapis.com/keras-applications/efficientnetb3_notop.h5\n",
      "43941888/43941136 [==============================] - 0s 0us/step\n",
      "Model: \"sequential\"\n",
      "_________________________________________________________________\n",
      "Layer (type)                 Output Shape              Param #   \n",
      "=================================================================\n",
      "efficientnetb3 (Functional)  (None, 16, 16, 1536)      10783535  \n",
      "_________________________________________________________________\n",
      "global_average_pooling2d (Gl (None, 1536)              0         \n",
      "_________________________________________________________________\n",
      "dropout (Dropout)            (None, 1536)              0         \n",
      "_________________________________________________________________\n",
      "dense (Dense)                (None, 5)                 7685      \n",
      "=================================================================\n",
      "Total params: 10,791,220\n",
      "Trainable params: 10,703,917\n",
      "Non-trainable params: 87,303\n",
      "_________________________________________________________________\n",
      "Epoch 1/10\n",
      "2140/2140 [==============================] - 1332s 622ms/step - loss: 0.5579 - accuracy: 0.8076 - val_loss: 0.3481 - val_accuracy: 0.8822\n",
      "Epoch 2/10\n",
      "2140/2140 [==============================] - 1326s 620ms/step - loss: 0.3408 - accuracy: 0.8864 - val_loss: 0.3205 - val_accuracy: 0.8925\n",
      "Epoch 3/10\n",
      "2140/2140 [==============================] - 1326s 619ms/step - loss: 0.3386 - accuracy: 0.8861 - val_loss: 0.3197 - val_accuracy: 0.8946\n",
      "Epoch 4/10\n",
      "2140/2140 [==============================] - 1330s 621ms/step - loss: 0.3409 - accuracy: 0.8860 - val_loss: 0.3185 - val_accuracy: 0.8953\n",
      "Epoch 5/10\n",
      "2140/2140 [==============================] - 1330s 622ms/step - loss: 0.3347 - accuracy: 0.8847 - val_loss: 0.3186 - val_accuracy: 0.8951\n",
      "Epoch 6/10\n",
      "2140/2140 [==============================] - 1332s 623ms/step - loss: 0.3255 - accuracy: 0.8889 - val_loss: 0.3177 - val_accuracy: 0.8965\n",
      "Epoch 7/10\n",
      "2140/2140 [==============================] - 1331s 622ms/step - loss: 0.3305 - accuracy: 0.8861 - val_loss: 0.3176 - val_accuracy: 0.8962\n",
      "Epoch 8/10\n",
      "2140/2140 [==============================] - 1332s 622ms/step - loss: 0.3299 - accuracy: 0.8901 - val_loss: 0.3177 - val_accuracy: 0.8960\n",
      "Epoch 9/10\n",
      "2140/2140 [==============================] - 1331s 622ms/step - loss: 0.3314 - accuracy: 0.8886 - val_loss: 0.3176 - val_accuracy: 0.8960\n",
      "Epoch 10/10\n",
      "2140/2140 [==============================] - 1335s 624ms/step - loss: 0.3261 - accuracy: 0.8872 - val_loss: 0.3176 - val_accuracy: 0.8955\n"
     ]
    }
   ],
   "source": [
    "AUTOTUNE = tf.data.experimental.AUTOTUNE\n",
    "\n",
    "# Read CSV file\n",
    "train_df = pd.read_csv(\"../input/split-train-data-to-5-fold/train_df_fold_3.csv\")\n",
    "val_df = pd.read_csv(\"../input/split-train-data-to-5-fold/val_df_fold_3.csv\")\n",
    "\n",
    "train_ds = generate_data(\n",
    "    train_df[\"file_path\"], train_df[\"label\"], hyper_params[\"img_size\"]).get_data()\n",
    "val_ds = generate_data(val_df[\"file_path\"],\n",
    "                       val_df[\"label\"], hyper_params[\"img_size\"]).get_data()\n",
    "\n",
    "train_ds = augmentate_data(train_ds, hyper_params[\"img_size\"]).data_aug()\n",
    "\n",
    "train_ds = train_ds.shuffle(buffer_size=hyper_params[\"buffer_size\"]).batch(\n",
    "    hyper_params[\"batch_size\"]).prefetch(buffer_size=AUTOTUNE)\n",
    "val_ds = val_ds.shuffle(buffer_size=hyper_params[\"buffer_size\"]).batch(\n",
    "    hyper_params[\"batch_size\"]).prefetch(buffer_size=AUTOTUNE)\n",
    "    \n",
    "# Build model\n",
    "model = efficientnetB3(hyper_params[\"num_classes\"])\n",
    "model.summary()\n",
    "    \n",
    "    \n",
    "# Train\n",
    "early_stop = tf.keras.callbacks.EarlyStopping(monitor=\"val_loss\", min_delta=1e-4, patience=5, restore_best_weights=True)\n",
    "\n",
    "decay_step = int((len(train_ds)/hyper_params[\"batch_size\"])*hyper_params[\"epochs\"])\n",
    "\n",
    "CosDecay = tf.keras.experimental.CosineDecay(hyper_params[\"init_lr\"], decay_steps=decay_step, alpha=1e-3)\n",
    "    \n",
    "Adam = keras.optimizers.Adam(learning_rate=CosDecay)\n",
    "\n",
    "Lookahead = tfa.optimizers.Lookahead(Adam)\n",
    "    \n",
    "model.compile(optimizer=Lookahead,\n",
    "              loss=tf.keras.losses.SparseCategoricalCrossentropy(\n",
    "                  from_logits=False),\n",
    "              metrics=[\"accuracy\"])\n",
    "    \n",
    "\n",
    "model.fit(train_ds, validation_data=val_ds, epochs=hyper_params[\"epochs\"], callbacks=[early_stop])\n",
    "\n",
    "model.save(\"./Lookahead_Adam_CosDecay_Fold_3.h5\")"
   ]
  }
 ],
 "metadata": {
  "kernelspec": {
   "display_name": "Python 3",
   "language": "python",
   "name": "python3"
  },
  "language_info": {
   "codemirror_mode": {
    "name": "ipython",
    "version": 3
   },
   "file_extension": ".py",
   "mimetype": "text/x-python",
   "name": "python",
   "nbconvert_exporter": "python",
   "pygments_lexer": "ipython3",
   "version": "3.7.6"
  },
  "papermill": {
   "duration": 13471.492919,
   "end_time": "2021-02-14T11:34:55.111890",
   "environment_variables": {},
   "exception": null,
   "input_path": "__notebook__.ipynb",
   "output_path": "__notebook__.ipynb",
   "parameters": {},
   "start_time": "2021-02-14T07:50:23.618971",
   "version": "2.1.0"
  }
 },
 "nbformat": 4,
 "nbformat_minor": 4
}
