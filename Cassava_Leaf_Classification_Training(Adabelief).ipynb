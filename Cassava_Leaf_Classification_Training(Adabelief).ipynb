{
 "cells": [
  {
   "cell_type": "code",
   "execution_count": 1,
   "metadata": {
    "execution": {
     "iopub.execute_input": "2021-02-16T12:18:59.977271Z",
     "iopub.status.busy": "2021-02-16T12:18:59.976757Z",
     "iopub.status.idle": "2021-02-16T12:19:07.554116Z",
     "shell.execute_reply": "2021-02-16T12:19:07.552642Z"
    },
    "papermill": {
     "duration": 7.587811,
     "end_time": "2021-02-16T12:19:07.554305",
     "exception": false,
     "start_time": "2021-02-16T12:18:59.966494",
     "status": "completed"
    },
    "tags": []
   },
   "outputs": [
    {
     "name": "stdout",
     "output_type": "stream",
     "text": [
      "Collecting adabelief-tf==0.2.0\r\n",
      "  Downloading adabelief_tf-0.2.0-py3-none-any.whl (6.4 kB)\r\n",
      "Requirement already satisfied: colorama>=0.4.0 in /opt/conda/lib/python3.7/site-packages (from adabelief-tf==0.2.0) (0.4.4)\r\n",
      "Requirement already satisfied: tensorflow>=2.0.0 in /opt/conda/lib/python3.7/site-packages (from adabelief-tf==0.2.0) (2.4.1)\r\n",
      "Requirement already satisfied: tabulate>=0.7 in /opt/conda/lib/python3.7/site-packages (from adabelief-tf==0.2.0) (0.8.7)\r\n",
      "Requirement already satisfied: astunparse~=1.6.3 in /opt/conda/lib/python3.7/site-packages (from tensorflow>=2.0.0->adabelief-tf==0.2.0) (1.6.3)\r\n",
      "Requirement already satisfied: absl-py~=0.10 in /opt/conda/lib/python3.7/site-packages (from tensorflow>=2.0.0->adabelief-tf==0.2.0) (0.10.0)\r\n",
      "Requirement already satisfied: google-pasta~=0.2 in /opt/conda/lib/python3.7/site-packages (from tensorflow>=2.0.0->adabelief-tf==0.2.0) (0.2.0)\r\n",
      "Requirement already satisfied: flatbuffers~=1.12.0 in /opt/conda/lib/python3.7/site-packages (from tensorflow>=2.0.0->adabelief-tf==0.2.0) (1.12)\r\n",
      "Requirement already satisfied: numpy~=1.19.2 in /opt/conda/lib/python3.7/site-packages (from tensorflow>=2.0.0->adabelief-tf==0.2.0) (1.19.5)\r\n",
      "Requirement already satisfied: tensorboard~=2.4 in /opt/conda/lib/python3.7/site-packages (from tensorflow>=2.0.0->adabelief-tf==0.2.0) (2.4.1)\r\n",
      "Requirement already satisfied: keras-preprocessing~=1.1.2 in /opt/conda/lib/python3.7/site-packages (from tensorflow>=2.0.0->adabelief-tf==0.2.0) (1.1.2)\r\n",
      "Requirement already satisfied: opt-einsum~=3.3.0 in /opt/conda/lib/python3.7/site-packages (from tensorflow>=2.0.0->adabelief-tf==0.2.0) (3.3.0)\r\n",
      "Requirement already satisfied: protobuf>=3.9.2 in /opt/conda/lib/python3.7/site-packages (from tensorflow>=2.0.0->adabelief-tf==0.2.0) (3.14.0)\r\n",
      "Requirement already satisfied: six~=1.15.0 in /opt/conda/lib/python3.7/site-packages (from tensorflow>=2.0.0->adabelief-tf==0.2.0) (1.15.0)\r\n",
      "Requirement already satisfied: wrapt~=1.12.1 in /opt/conda/lib/python3.7/site-packages (from tensorflow>=2.0.0->adabelief-tf==0.2.0) (1.12.1)\r\n",
      "Requirement already satisfied: termcolor~=1.1.0 in /opt/conda/lib/python3.7/site-packages (from tensorflow>=2.0.0->adabelief-tf==0.2.0) (1.1.0)\r\n",
      "Requirement already satisfied: h5py~=2.10.0 in /opt/conda/lib/python3.7/site-packages (from tensorflow>=2.0.0->adabelief-tf==0.2.0) (2.10.0)\r\n",
      "Requirement already satisfied: typing-extensions~=3.7.4 in /opt/conda/lib/python3.7/site-packages (from tensorflow>=2.0.0->adabelief-tf==0.2.0) (3.7.4.3)\r\n",
      "Requirement already satisfied: gast==0.3.3 in /opt/conda/lib/python3.7/site-packages (from tensorflow>=2.0.0->adabelief-tf==0.2.0) (0.3.3)\r\n",
      "Requirement already satisfied: grpcio~=1.32.0 in /opt/conda/lib/python3.7/site-packages (from tensorflow>=2.0.0->adabelief-tf==0.2.0) (1.32.0)\r\n",
      "Requirement already satisfied: wheel~=0.35 in /opt/conda/lib/python3.7/site-packages (from tensorflow>=2.0.0->adabelief-tf==0.2.0) (0.36.2)\r\n",
      "Requirement already satisfied: tensorflow-estimator<2.5.0,>=2.4.0 in /opt/conda/lib/python3.7/site-packages (from tensorflow>=2.0.0->adabelief-tf==0.2.0) (2.4.0)\r\n",
      "Requirement already satisfied: tensorboard-plugin-wit>=1.6.0 in /opt/conda/lib/python3.7/site-packages (from tensorboard~=2.4->tensorflow>=2.0.0->adabelief-tf==0.2.0) (1.8.0)\r\n",
      "Requirement already satisfied: requests<3,>=2.21.0 in /opt/conda/lib/python3.7/site-packages (from tensorboard~=2.4->tensorflow>=2.0.0->adabelief-tf==0.2.0) (2.25.1)\r\n",
      "Requirement already satisfied: werkzeug>=0.11.15 in /opt/conda/lib/python3.7/site-packages (from tensorboard~=2.4->tensorflow>=2.0.0->adabelief-tf==0.2.0) (1.0.1)\r\n",
      "Requirement already satisfied: markdown>=2.6.8 in /opt/conda/lib/python3.7/site-packages (from tensorboard~=2.4->tensorflow>=2.0.0->adabelief-tf==0.2.0) (3.3.3)\r\n",
      "Requirement already satisfied: google-auth-oauthlib<0.5,>=0.4.1 in /opt/conda/lib/python3.7/site-packages (from tensorboard~=2.4->tensorflow>=2.0.0->adabelief-tf==0.2.0) (0.4.2)\r\n",
      "Requirement already satisfied: google-auth<2,>=1.6.3 in /opt/conda/lib/python3.7/site-packages (from tensorboard~=2.4->tensorflow>=2.0.0->adabelief-tf==0.2.0) (1.24.0)\r\n",
      "Requirement already satisfied: setuptools>=41.0.0 in /opt/conda/lib/python3.7/site-packages (from tensorboard~=2.4->tensorflow>=2.0.0->adabelief-tf==0.2.0) (49.6.0.post20201009)\r\n",
      "Requirement already satisfied: cachetools<5.0,>=2.0.0 in /opt/conda/lib/python3.7/site-packages (from google-auth<2,>=1.6.3->tensorboard~=2.4->tensorflow>=2.0.0->adabelief-tf==0.2.0) (4.1.1)\r\n",
      "Requirement already satisfied: pyasn1-modules>=0.2.1 in /opt/conda/lib/python3.7/site-packages (from google-auth<2,>=1.6.3->tensorboard~=2.4->tensorflow>=2.0.0->adabelief-tf==0.2.0) (0.2.7)\r\n",
      "Requirement already satisfied: rsa<5,>=3.1.4 in /opt/conda/lib/python3.7/site-packages (from google-auth<2,>=1.6.3->tensorboard~=2.4->tensorflow>=2.0.0->adabelief-tf==0.2.0) (4.6)\r\n",
      "Requirement already satisfied: requests-oauthlib>=0.7.0 in /opt/conda/lib/python3.7/site-packages (from google-auth-oauthlib<0.5,>=0.4.1->tensorboard~=2.4->tensorflow>=2.0.0->adabelief-tf==0.2.0) (1.3.0)\r\n",
      "Requirement already satisfied: importlib-metadata in /opt/conda/lib/python3.7/site-packages (from markdown>=2.6.8->tensorboard~=2.4->tensorflow>=2.0.0->adabelief-tf==0.2.0) (3.3.0)\r\n",
      "Requirement already satisfied: pyasn1<0.5.0,>=0.4.6 in /opt/conda/lib/python3.7/site-packages (from pyasn1-modules>=0.2.1->google-auth<2,>=1.6.3->tensorboard~=2.4->tensorflow>=2.0.0->adabelief-tf==0.2.0) (0.4.8)\r\n",
      "Requirement already satisfied: urllib3<1.27,>=1.21.1 in /opt/conda/lib/python3.7/site-packages (from requests<3,>=2.21.0->tensorboard~=2.4->tensorflow>=2.0.0->adabelief-tf==0.2.0) (1.26.2)\r\n",
      "Requirement already satisfied: certifi>=2017.4.17 in /opt/conda/lib/python3.7/site-packages (from requests<3,>=2.21.0->tensorboard~=2.4->tensorflow>=2.0.0->adabelief-tf==0.2.0) (2020.12.5)\r\n",
      "Requirement already satisfied: idna<3,>=2.5 in /opt/conda/lib/python3.7/site-packages (from requests<3,>=2.21.0->tensorboard~=2.4->tensorflow>=2.0.0->adabelief-tf==0.2.0) (2.10)\r\n",
      "Requirement already satisfied: chardet<5,>=3.0.2 in /opt/conda/lib/python3.7/site-packages (from requests<3,>=2.21.0->tensorboard~=2.4->tensorflow>=2.0.0->adabelief-tf==0.2.0) (3.0.4)\r\n",
      "Requirement already satisfied: oauthlib>=3.0.0 in /opt/conda/lib/python3.7/site-packages (from requests-oauthlib>=0.7.0->google-auth-oauthlib<0.5,>=0.4.1->tensorboard~=2.4->tensorflow>=2.0.0->adabelief-tf==0.2.0) (3.0.1)\r\n",
      "Requirement already satisfied: zipp>=0.5 in /opt/conda/lib/python3.7/site-packages (from importlib-metadata->markdown>=2.6.8->tensorboard~=2.4->tensorflow>=2.0.0->adabelief-tf==0.2.0) (3.4.0)\r\n",
      "Installing collected packages: adabelief-tf\r\n",
      "Successfully installed adabelief-tf-0.2.0\r\n"
     ]
    }
   ],
   "source": [
    "!pip install adabelief-tf==0.2.0"
   ]
  },
  {
   "cell_type": "code",
   "execution_count": 2,
   "metadata": {
    "execution": {
     "iopub.execute_input": "2021-02-16T12:19:07.576492Z",
     "iopub.status.busy": "2021-02-16T12:19:07.575672Z",
     "iopub.status.idle": "2021-02-16T12:19:14.523614Z",
     "shell.execute_reply": "2021-02-16T12:19:14.522390Z"
    },
    "papermill": {
     "duration": 6.960988,
     "end_time": "2021-02-16T12:19:14.523777",
     "exception": false,
     "start_time": "2021-02-16T12:19:07.562789",
     "status": "completed"
    },
    "tags": []
   },
   "outputs": [],
   "source": [
    "import pathlib\n",
    "import numpy as np\n",
    "import os\n",
    "import pandas as pd\n",
    "import tensorflow as tf\n",
    "import tensorflow_addons as tfa\n",
    "import random\n",
    "\n",
    "from sklearn.model_selection import StratifiedKFold\n",
    "from adabelief_tf import AdaBeliefOptimizer\n",
    "from tensorflow import keras\n",
    "from tensorflow.keras import layers, Sequential\n",
    "from tensorflow.keras.applications import EfficientNetB3\n",
    "from functools import partial\n",
    "from albumentations import (Compose, Transpose, HorizontalFlip,\n",
    "                            VerticalFlip, RandomResizedCrop, RandomRotate90, RandomBrightnessContrast,HueSaturationValue )"
   ]
  },
  {
   "cell_type": "code",
   "execution_count": 3,
   "metadata": {
    "execution": {
     "iopub.execute_input": "2021-02-16T12:19:14.546033Z",
     "iopub.status.busy": "2021-02-16T12:19:14.544257Z",
     "iopub.status.idle": "2021-02-16T12:19:14.546681Z",
     "shell.execute_reply": "2021-02-16T12:19:14.547107Z"
    },
    "papermill": {
     "duration": 0.015418,
     "end_time": "2021-02-16T12:19:14.547237",
     "exception": false,
     "start_time": "2021-02-16T12:19:14.531819",
     "status": "completed"
    },
    "tags": []
   },
   "outputs": [],
   "source": [
    "hyper_params={\n",
    "    \"img_size\": 512,\n",
    "    \"batch_size\": 8,\n",
    "    \"val_ratio\": 0.2,\n",
    "    \"buffer_size\": 1000,\n",
    "    \"num_classes\": 5,\n",
    "    \"fold\": 5,\n",
    "    \"seed\": 2021,\n",
    "\n",
    "    \"epochs\": 10,\n",
    "    \"init_lr\": float(1e-3)\n",
    "}"
   ]
  },
  {
   "cell_type": "code",
   "execution_count": 4,
   "metadata": {
    "execution": {
     "iopub.execute_input": "2021-02-16T12:19:14.566810Z",
     "iopub.status.busy": "2021-02-16T12:19:14.566150Z",
     "iopub.status.idle": "2021-02-16T12:19:14.568968Z",
     "shell.execute_reply": "2021-02-16T12:19:14.568576Z"
    },
    "papermill": {
     "duration": 0.014352,
     "end_time": "2021-02-16T12:19:14.569073",
     "exception": false,
     "start_time": "2021-02-16T12:19:14.554721",
     "status": "completed"
    },
    "tags": []
   },
   "outputs": [],
   "source": [
    "def seed_everything(seed):\n",
    "    random.seed(seed)\n",
    "    np.random.seed(seed)\n",
    "    os.environ['PYTHONHASHSEED'] = str(seed)\n",
    "    tf.compat.v1.set_random_seed(seed)\n",
    "    \n",
    "seed_everything(hyper_params[\"seed\"])"
   ]
  },
  {
   "cell_type": "code",
   "execution_count": 5,
   "metadata": {
    "execution": {
     "iopub.execute_input": "2021-02-16T12:19:14.594222Z",
     "iopub.status.busy": "2021-02-16T12:19:14.593464Z",
     "iopub.status.idle": "2021-02-16T12:19:14.600606Z",
     "shell.execute_reply": "2021-02-16T12:19:14.601300Z"
    },
    "papermill": {
     "duration": 0.024778,
     "end_time": "2021-02-16T12:19:14.601529",
     "exception": false,
     "start_time": "2021-02-16T12:19:14.576751",
     "status": "completed"
    },
    "tags": []
   },
   "outputs": [],
   "source": [
    "class generate_data():\n",
    "    def __init__(self,\n",
    "                 image,\n",
    "                 label,\n",
    "                 img_size=224):\n",
    "        self.image = image\n",
    "        self.label = label\n",
    "        self.img_size = img_size\n",
    "        self.img_num = len(image)\n",
    "        self.AUTOTUNE = tf.data.experimental.AUTOTUNE\n",
    "\n",
    "    def _create_dataset(self):\n",
    "        list_ds = tf.data.Dataset.from_tensor_slices(\n",
    "            (self.image, self.label))\n",
    "\n",
    "        list_ds = list_ds.shuffle(\n",
    "            self.img_num, reshuffle_each_iteration=False)\n",
    "        \n",
    "        return list_ds\n",
    "\n",
    "    def _resize_img(self, file_path, label):\n",
    "        img = tf.io.read_file(file_path)\n",
    "        img = tf.image.decode_jpeg(img, channels=3)\n",
    "        img = tf.image.resize(img, [self.img_size, self.img_size])\n",
    "\n",
    "        return img, label\n",
    "    \n",
    "    def get_data(self):\n",
    "        ds = self._create_dataset()\n",
    "        ds = ds.map(self._resize_img, num_parallel_calls=self.AUTOTUNE)\n",
    "\n",
    "        return ds"
   ]
  },
  {
   "cell_type": "code",
   "execution_count": 6,
   "metadata": {
    "execution": {
     "iopub.execute_input": "2021-02-16T12:19:14.648614Z",
     "iopub.status.busy": "2021-02-16T12:19:14.646803Z",
     "iopub.status.idle": "2021-02-16T12:19:14.649477Z",
     "shell.execute_reply": "2021-02-16T12:19:14.647718Z"
    },
    "papermill": {
     "duration": 0.032685,
     "end_time": "2021-02-16T12:19:14.649672",
     "exception": false,
     "start_time": "2021-02-16T12:19:14.616987",
     "status": "completed"
    },
    "tags": []
   },
   "outputs": [],
   "source": [
    "augmentate = Compose([\n",
    "    RandomResizedCrop(hyper_params[\"img_size\"], hyper_params[\"img_size\"]),\n",
    "    Transpose(p=0.6),\n",
    "    HorizontalFlip(p=0.6),\n",
    "    VerticalFlip(p=0.6),\n",
    "    RandomRotate90(p=0.6),\n",
    "    RandomBrightnessContrast(brightness_limit=(-0.1, 0.1),\n",
    "                             contrast_limit=(-0.1, 0.1), p=0.6),\n",
    "    HueSaturationValue(hue_shift_limit=0.2,\n",
    "                       sat_shift_limit=0.2, val_shift_limit=0.2, p=0.6)\n",
    "])\n",
    "\n",
    "\n",
    "class augmentate_data():\n",
    "    def __init__(self, ds, img_size):\n",
    "        self.ds = ds\n",
    "        self.input_shape=(img_size, img_size, 3)\n",
    "\n",
    "    def _aug_fn(self, image):\n",
    "        aug_data = augmentate(image=image)\n",
    "        aug_img = aug_data[\"image\"]\n",
    "\n",
    "        return aug_img\n",
    "\n",
    "    def _process_img(self, image, label):\n",
    "        aug_img = tf.numpy_function(\n",
    "            func=self._aug_fn, inp=[image], Tout=tf.float32)\n",
    "\n",
    "        return aug_img, label\n",
    "\n",
    "    def _set_shapes(self, img, label):\n",
    "        img.set_shape((self.input_shape))\n",
    "        label.set_shape([])\n",
    "\n",
    "        return img, label\n",
    "\n",
    "    def data_aug(self):\n",
    "        ds = self.ds.map(self._process_img,\n",
    "                         num_parallel_calls=tf.data.experimental.AUTOTUNE)\n",
    "\n",
    "        ds = self.ds.map(self._set_shapes,\n",
    "                         num_parallel_calls=tf.data.experimental.AUTOTUNE)\n",
    "        return ds"
   ]
  },
  {
   "cell_type": "code",
   "execution_count": 7,
   "metadata": {
    "execution": {
     "iopub.execute_input": "2021-02-16T12:19:14.688339Z",
     "iopub.status.busy": "2021-02-16T12:19:14.687447Z",
     "iopub.status.idle": "2021-02-16T12:19:14.691217Z",
     "shell.execute_reply": "2021-02-16T12:19:14.691852Z"
    },
    "papermill": {
     "duration": 0.028671,
     "end_time": "2021-02-16T12:19:14.692057",
     "exception": false,
     "start_time": "2021-02-16T12:19:14.663386",
     "status": "completed"
    },
    "tags": []
   },
   "outputs": [],
   "source": [
    "def efficientnetB3(num_classes):\n",
    "    model = Sequential()\n",
    "    pretrained_b3 = EfficientNetB3(include_top=False, weights=\"imagenet\",\n",
    "                                   input_shape=(hyper_params[\"img_size\"], hyper_params[\"img_size\"], 3), drop_connect_rate=0.4)\n",
    "    model.add(pretrained_b3)\n",
    "    model.add(layers.GlobalAveragePooling2D())\n",
    "    model.add(layers.Dropout(0.4))\n",
    "    model.add(layers.Dense(num_classes, activation='softmax'))\n",
    "\n",
    "    return model\n"
   ]
  },
  {
   "cell_type": "code",
   "execution_count": 8,
   "metadata": {
    "execution": {
     "iopub.execute_input": "2021-02-16T12:19:14.731763Z",
     "iopub.status.busy": "2021-02-16T12:19:14.730855Z",
     "iopub.status.idle": "2021-02-16T16:14:05.633730Z",
     "shell.execute_reply": "2021-02-16T16:14:05.633098Z"
    },
    "papermill": {
     "duration": 14090.929542,
     "end_time": "2021-02-16T16:14:05.633887",
     "exception": false,
     "start_time": "2021-02-16T12:19:14.704345",
     "status": "completed"
    },
    "tags": []
   },
   "outputs": [
    {
     "name": "stdout",
     "output_type": "stream",
     "text": [
      "Downloading data from https://storage.googleapis.com/keras-applications/efficientnetb3_notop.h5\n",
      "43941888/43941136 [==============================] - 0s 0us/step\n",
      "Model: \"sequential\"\n",
      "_________________________________________________________________\n",
      "Layer (type)                 Output Shape              Param #   \n",
      "=================================================================\n",
      "efficientnetb3 (Functional)  (None, 16, 16, 1536)      10783535  \n",
      "_________________________________________________________________\n",
      "global_average_pooling2d (Gl (None, 1536)              0         \n",
      "_________________________________________________________________\n",
      "dropout (Dropout)            (None, 1536)              0         \n",
      "_________________________________________________________________\n",
      "dense (Dense)                (None, 5)                 7685      \n",
      "=================================================================\n",
      "Total params: 10,791,220\n",
      "Trainable params: 10,703,917\n",
      "Non-trainable params: 87,303\n",
      "_________________________________________________________________\n",
      "\u001b[31mPlease check your arguments if you have upgraded adabelief-tf from version 0.0.1.\n",
      "\u001b[31mModifications to default arguments:\n",
      "\u001b[31m                           eps  weight_decouple    rectify\n",
      "-----------------------  -----  -----------------  -------------\n",
      "adabelief-tf=0.0.1       1e-08  Not supported      Not supported\n",
      ">=0.1.0 (Current 0.2.0)  1e-14  supported          default: True\n",
      "\u001b[34mSGD better than Adam (e.g. CNN for Image Classification)    Adam better than SGD (e.g. Transformer, GAN)\n",
      "----------------------------------------------------------  ----------------------------------------------\n",
      "Recommended epsilon = 1e-7                                  Recommended epsilon = 1e-14\n",
      "\u001b[34mFor a complete table of recommended hyperparameters, see\n",
      "\u001b[34mhttps://github.com/juntang-zhuang/Adabelief-Optimizer\n",
      "\u001b[32mYou can disable the log message by setting \"print_change_log = False\", though it is recommended to keep as a reminder.\n",
      "\u001b[0m\n",
      "Epoch 1/10\n",
      "2140/2140 [==============================] - 1496s 654ms/step - loss: 0.6812 - accuracy: 0.7613 - val_loss: 0.3385 - val_accuracy: 0.8848\n",
      "Epoch 2/10\n",
      "2140/2140 [==============================] - 1388s 647ms/step - loss: 0.3592 - accuracy: 0.8811 - val_loss: 0.3176 - val_accuracy: 0.8925\n",
      "Epoch 3/10\n",
      "2140/2140 [==============================] - 1393s 649ms/step - loss: 0.3456 - accuracy: 0.8840 - val_loss: 0.3163 - val_accuracy: 0.8932\n",
      "Epoch 4/10\n",
      "2140/2140 [==============================] - 1394s 649ms/step - loss: 0.3557 - accuracy: 0.8818 - val_loss: 0.3154 - val_accuracy: 0.8927\n",
      "Epoch 5/10\n",
      "2140/2140 [==============================] - 1397s 650ms/step - loss: 0.3475 - accuracy: 0.8836 - val_loss: 0.3159 - val_accuracy: 0.8927\n",
      "Epoch 6/10\n",
      "2140/2140 [==============================] - 1400s 651ms/step - loss: 0.3345 - accuracy: 0.8862 - val_loss: 0.3144 - val_accuracy: 0.8925\n",
      "Epoch 7/10\n",
      "2140/2140 [==============================] - 1404s 653ms/step - loss: 0.3390 - accuracy: 0.8862 - val_loss: 0.3150 - val_accuracy: 0.8932\n",
      "Epoch 8/10\n",
      "2140/2140 [==============================] - 1400s 651ms/step - loss: 0.3427 - accuracy: 0.8818 - val_loss: 0.3148 - val_accuracy: 0.8918\n",
      "Epoch 9/10\n",
      "2140/2140 [==============================] - 1398s 650ms/step - loss: 0.3390 - accuracy: 0.8864 - val_loss: 0.3145 - val_accuracy: 0.8918\n",
      "Epoch 10/10\n",
      "2140/2140 [==============================] - 1397s 649ms/step - loss: 0.3457 - accuracy: 0.8819 - val_loss: 0.3142 - val_accuracy: 0.8927\n"
     ]
    },
    {
     "data": {
      "text/plain": [
       "<tensorflow.python.keras.callbacks.History at 0x7fabd0b2b910>"
      ]
     },
     "execution_count": 8,
     "metadata": {},
     "output_type": "execute_result"
    }
   ],
   "source": [
    "AUTOTUNE = tf.data.experimental.AUTOTUNE\n",
    "\n",
    "train_df = pd.read_csv(\"../input/split-train-data-to-5-fold/train_df_fold_3.csv\")\n",
    "val_df = pd.read_csv(\"../input/split-train-data-to-5-fold/val_df_fold_3.csv\")\n",
    "\n",
    "train_ds = generate_data(train_df[\"file_path\"], \n",
    "                         train_df[\"label\"], hyper_params[\"img_size\"]).get_data()\n",
    "val_ds = generate_data(val_df[\"file_path\"], \n",
    "                       val_df[\"label\"], hyper_params[\"img_size\"]).get_data()\n",
    "\n",
    "train_ds = augmentate_data(train_ds, hyper_params[\"img_size\"]).data_aug()\n",
    "\n",
    "train_ds = train_ds.shuffle(buffer_size=hyper_params[\"buffer_size\"]).batch(\n",
    "    hyper_params[\"batch_size\"]).prefetch(buffer_size=AUTOTUNE)\n",
    "val_ds = val_ds.shuffle(buffer_size=hyper_params[\"buffer_size\"]).batch(\n",
    "    hyper_params[\"batch_size\"]).prefetch(buffer_size=AUTOTUNE)\n",
    "    \n",
    "# Build model\n",
    "model = efficientnetB3(hyper_params[\"num_classes\"])\n",
    "model.summary()\n",
    "\n",
    "early_stop = tf.keras.callbacks.EarlyStopping(monitor=\"val_loss\", min_delta=1e-4, patience=5, restore_best_weights=True)\n",
    "model_checkpoint = tf.keras.callbacks.ModelCheckpoint(filepath=\"./Lookahead_Adabelief_CosDecay_Fold_3.h5\", monitor=\"val_loss\", save_best_only=True)\n",
    "\n",
    "decay_step = int((len(train_ds)/hyper_params[\"batch_size\"])*hyper_params[\"epochs\"])\n",
    "\n",
    "CosDecay = tf.keras.experimental.CosineDecay(hyper_params[\"init_lr\"], decay_steps=decay_step, alpha=1e-3)\n",
    "    \n",
    "# Adam = keras.optimizers.Adam(learning_rate=CosDecay)\n",
    "Adabelief = AdaBeliefOptimizer(learning_rate=CosDecay, epsilon=1e-14, rectify=False)\n",
    "# Radam = tfa.optimizers.RectifiedAdam(learning_rate=CosDecay)\n",
    "\n",
    "Lookahead = tfa.optimizers.Lookahead(Adabelief)\n",
    "# SWA = tfa.optimizers.SWA(Adam)\n",
    "    \n",
    "model.compile(optimizer=Lookahead,\n",
    "              loss=tf.keras.losses.SparseCategoricalCrossentropy(\n",
    "                  from_logits=False),\n",
    "              metrics=[\"accuracy\"])\n",
    "    \n",
    "model.fit(train_ds, validation_data=val_ds, epochs=hyper_params[\"epochs\"], callbacks=[early_stop, model_checkpoint])"
   ]
  }
 ],
 "metadata": {
  "kernelspec": {
   "display_name": "Python 3",
   "language": "python",
   "name": "python3"
  },
  "language_info": {
   "codemirror_mode": {
    "name": "ipython",
    "version": 3
   },
   "file_extension": ".py",
   "mimetype": "text/x-python",
   "name": "python",
   "nbconvert_exporter": "python",
   "pygments_lexer": "ipython3",
   "version": "3.7.9"
  },
  "papermill": {
   "default_parameters": {},
   "duration": 14123.404965,
   "end_time": "2021-02-16T16:14:17.903705",
   "environment_variables": {},
   "exception": null,
   "input_path": "__notebook__.ipynb",
   "output_path": "__notebook__.ipynb",
   "parameters": {},
   "start_time": "2021-02-16T12:18:54.498740",
   "version": "2.2.2"
  }
 },
 "nbformat": 4,
 "nbformat_minor": 4
}
